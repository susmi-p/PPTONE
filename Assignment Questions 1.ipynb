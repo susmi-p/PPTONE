{
 "cells": [
  {
   "cell_type": "markdown",
   "id": "9c86dd10-c525-4ac9-b208-37da43cd22e4",
   "metadata": {},
   "source": [
    "<aside>\n",
    "💡 **Q1.** Given an array of integers nums and an integer target, return indices of the two numbers such that they add up to target.\n",
    "\n",
    "You may assume that each input would have exactly one solution, and you may not use the same element twice.\n",
    "\n",
    "You can return the answer in any order.\n",
    "\n",
    "**Example:**\n",
    "Input: nums = [2,7,11,15], target = 9\n",
    "Output0 [0,1]\n",
    "\n",
    "**Explanation:** Because nums[0] + nums[1] == 9, we return [0, 1][\n",
    "\n",
    "</aside>"
   ]
  },
  {
   "cell_type": "code",
   "execution_count": 35,
   "id": "6223b7f0-a255-4464-80c0-27ac949c25fc",
   "metadata": {},
   "outputs": [
    {
     "name": "stdout",
     "output_type": "stream",
     "text": [
      "[0, 1]\n"
     ]
    }
   ],
   "source": [
    "l=[2,7,11,15]\n",
    "target=9\n",
    "sum=0\n",
    "b=0\n",
    "for i in l:\n",
    "    sum=i+b\n",
    "    if sum==target:\n",
    "        print([l.index(b),l.index(i)])\n",
    "    b=i"
   ]
  },
  {
   "cell_type": "markdown",
   "id": "1c541e19-cd7d-402b-bbef-8982b8095114",
   "metadata": {},
   "source": [
    "<aside>\n",
    "💡 **Q2.** Given an integer array nums and an integer val, remove all occurrences of val in nums in-place. The order of the elements may be changed. Then return the number of elements in nums which are not equal to val.\n",
    "\n",
    "Consider the number of elements in nums which are not equal to val be k, to get accepted, you need to do the following things:\n",
    "\n",
    "- Change the array nums such that the first k elements of nums contain the elements which are not equal to val. The remaining elements of nums are not important as well as the size of nums.\n",
    "- Return k.\n",
    "\n",
    "**Example :**\n",
    "Input: nums = [3,2,2,3], val = 3\n",
    "Output: 2, nums = [2,2,_*,_*]\n",
    "\n",
    "**Explanation:** Your function should return k = 2, with the first two elements of nums being 2. It does not matter what you leave beyond the returned k (hence they are underscores)[\n",
    "\n",
    "</aside>"
   ]
  },
  {
   "cell_type": "code",
   "execution_count": 202,
   "id": "7b6e8e8b-f23e-45fe-a40f-c7ea80bf671b",
   "metadata": {},
   "outputs": [
    {
     "name": "stdout",
     "output_type": "stream",
     "text": [
      "2,nums = [2, 2, '_', '_']\n"
     ]
    }
   ],
   "source": [
    "l1=[3,2,2,3]\n",
    "val=3\n",
    "k=[]\n",
    "count=0\n",
    "for i in l1:\n",
    "    if i!=val:\n",
    "        k.append(i)\n",
    "        count+=1\n",
    "for i in l1:\n",
    "    if i==val:\n",
    "        k.append('_')\n",
    "print(f\"{count},nums = {k}\")"
   ]
  },
  {
   "cell_type": "markdown",
   "id": "28cc8bad-4e02-43a4-807e-9f92235acc1e",
   "metadata": {},
   "source": [
    "<aside>\n",
    "💡 **Q3.** Given a sorted array of distinct integers and a target value, return the index if the target is found. If not, return the index where it would be if it were inserted in order.\n",
    "\n",
    "You must write an algorithm with O(log n) runtime complexity.\n",
    "\n",
    "**Example 1:**\n",
    "Input: nums = [1,3,5,6], target = 5\n",
    "\n",
    "Output: 2\n",
    "\n",
    "</aside>"
   ]
  },
  {
   "cell_type": "code",
   "execution_count": 93,
   "id": "64878a66-c439-4246-bd7d-f7fc03518a7e",
   "metadata": {},
   "outputs": [
    {
     "name": "stdout",
     "output_type": "stream",
     "text": [
      "2\n"
     ]
    }
   ],
   "source": [
    "import math\n",
    "target=5\n",
    "nums=[1,3,5,6]\n",
    "for i in nums:\n",
    "    if i==target:\n",
    "        print(nums.index(i))"
   ]
  },
  {
   "cell_type": "markdown",
   "id": "2bd3380e-806d-4ce5-ab14-e35e1ef849ee",
   "metadata": {},
   "source": [
    "<aside>\n",
    "💡 **Q4.** You are given a large integer represented as an integer array digits, where each digits[i] is the ith digit of the integer. The digits are ordered from most significant to least significant in left-to-right order. The large integer does not contain any leading 0's.\n",
    "\n",
    "Increment the large integer by one and return the resulting array of digits.\n",
    "\n",
    "**Example 1:**\n",
    "Input: digits = [1,2,3]\n",
    "Output: [1,2,4]\n",
    "\n",
    "**Explanation:** The array represents the integer 123.\n",
    "\n",
    "Incrementing by one gives 123 + 1 = 124.\n",
    "Thus, the result should be [1,2,4].\n",
    "\n",
    "</aside>"
   ]
  },
  {
   "cell_type": "code",
   "execution_count": 105,
   "id": "d17f75f1-3ed9-48fe-9a03-a1728b2f5d58",
   "metadata": {},
   "outputs": [
    {
     "name": "stdout",
     "output_type": "stream",
     "text": [
      "[1, 2, 4]\n"
     ]
    }
   ],
   "source": [
    "\n",
    "l=[1,2,3]\n",
    "temp=0\n",
    "for i in l:\n",
    "    if i>temp:\n",
    "        temp=i\n",
    "for i in range(len(l)):\n",
    "    if l[i]==temp:\n",
    "        l[i]=temp+1\n",
    "        print(l)\n",
    "       "
   ]
  },
  {
   "cell_type": "markdown",
   "id": "ec4aacb0-8d24-4b0e-92eb-ebeb6e064a42",
   "metadata": {},
   "source": [
    "<aside>\n",
    "💡 **Q5.** You are given two integer arrays nums1 and nums2, sorted in non-decreasing order, and two integers m and n, representing the number of elements in nums1 and nums2 respectively.\n",
    "\n",
    "Merge nums1 and nums2 into a single array sorted in non-decreasing order.\n",
    "\n",
    "The final sorted array should not be returned by the function, but instead be stored inside the array nums1. To accommodate this, nums1 has a length of m + n, where the first m elements denote the elements that should be merged, and the last n elements are set to 0 and should be ignored. nums2 has a length of n.\n",
    "\n",
    "**Example 1:**\n",
    "Input: nums1 = [1,2,3,0,0,0], m = 3, nums2 = [2,5,6], n = 3\n",
    "Output: [1,2,2,3,5,6]\n",
    "\n",
    "**Explanation:** The arrays we are merging are [1,2,3] and [2,5,6].\n",
    "The result of the merge is [1,2,2,3,5,6] with the underlined elements coming from nums1.\n",
    "\n",
    "</aside>"
   ]
  },
  {
   "cell_type": "code",
   "execution_count": 38,
   "id": "578af289-e56a-428f-84ea-dbcdb911101d",
   "metadata": {},
   "outputs": [
    {
     "name": "stdout",
     "output_type": "stream",
     "text": [
      "[1, 2, 2, 3, 5, 6]\n"
     ]
    }
   ],
   "source": [
    "nums1=[1,2,3,0,0,0]\n",
    "nums2=[2,5,6]\n",
    "l=[]\n",
    "for i in nums1:\n",
    "    if i!=0:\n",
    "        l.append(i)\n",
    "        \n",
    "for i in nums2:\n",
    "    if i!=0:\n",
    "        l.append(i)\n",
    "l.sort()\n",
    "print(l)"
   ]
  },
  {
   "cell_type": "markdown",
   "id": "b1cc1aa6-5541-48ae-bbac-decbb52ba5da",
   "metadata": {},
   "source": [
    "<aside>\n",
    "💡 **Q6.** Given an integer array nums, return true if any value appears at least twice in the array, and return false if every element is distinct.\n",
    "\n",
    "**Example 1:**\n",
    "Input: nums = [1,2,3,1]\n",
    "\n",
    "Output: true\n",
    "\n",
    "</aside>"
   ]
  },
  {
   "cell_type": "code",
   "execution_count": 241,
   "id": "39d98e52-e421-43d7-b2e0-f09fbb63b526",
   "metadata": {},
   "outputs": [
    {
     "data": {
      "text/plain": [
       "True"
      ]
     },
     "execution_count": 241,
     "metadata": {},
     "output_type": "execute_result"
    }
   ],
   "source": [
    "nums=[1,2,3,1]\n",
    "bool(nums!=list(set(nums)))#as number repeating it is not equals so condition satifies returns true\n"
   ]
  },
  {
   "cell_type": "markdown",
   "id": "a041d18d-0b7a-4b5d-830e-219fb2958663",
   "metadata": {},
   "source": [
    "<aside>\n",
    "💡 **Q7.** Given an integer array nums, move all 0's to the end of it while maintaining the relative order of the nonzero elements.\n",
    "\n",
    "Note that you must do this in-place without making a copy of the array.\n",
    "\n",
    "**Example 1:**\n",
    "Input: nums = [0,1,0,3,12]\n",
    "Output: [1,3,12,0,0]\n",
    "\n",
    "</aside>"
   ]
  },
  {
   "cell_type": "code",
   "execution_count": 104,
   "id": "b6d862ee-6b64-4ca9-bbc3-c31e0c57ddfa",
   "metadata": {},
   "outputs": [
    {
     "name": "stdout",
     "output_type": "stream",
     "text": [
      "[1, 3, 12, 0, 0]\n"
     ]
    }
   ],
   "source": [
    "nums=[0,1,0,3,12]\n",
    "l=[]\n",
    "for i in nums:\n",
    "    if i!=0:\n",
    "        l.append(i)\n",
    "        \n",
    "for i in nums:\n",
    "    if i==0:\n",
    "        l.append(i)\n",
    "print(l)\n",
    "        "
   ]
  },
  {
   "cell_type": "markdown",
   "id": "13f296c0-ef79-4a78-bfa7-9343b918e868",
   "metadata": {},
   "source": [
    "<aside>\n",
    "💡 **Q8.** You have a set of integers s, which originally contains all the numbers from 1 to n. Unfortunately, due to some error, one of the numbers in s got duplicated to another number in the set, which results in repetition of one number and loss of another number.\n",
    "\n",
    "You are given an integer array nums representing the data status of this set after the error.\n",
    "\n",
    "Find the number that occurs twice and the number that is missing and return them in the form of an array.\n",
    "\n",
    "**Example 1:**\n",
    "Input: nums = [1,2,2,4]\n",
    "Output: [2,3]\n",
    "\n",
    "</aside>"
   ]
  },
  {
   "cell_type": "code",
   "execution_count": 198,
   "id": "81dc940a-fbb4-4605-92b9-7c815b0fe7bc",
   "metadata": {},
   "outputs": [
    {
     "name": "stdout",
     "output_type": "stream",
     "text": [
      "[2, 3]\n"
     ]
    }
   ],
   "source": [
    "nums=[1,2,2,4]\n",
    "l=[]\n",
    "temp=0\n",
    "for i in nums:\n",
    "    if i>temp:\n",
    "        temp=i\n",
    "for i in range(1,temp+1):\n",
    "    l.append(i)\n",
    "r=max(set(nums),key=nums.count)#1's count 1,2's count in num is 2,3's count is 1 \n",
    "# then max of all is numbers count is '2'\n",
    "u=list(set(l) - set (nums))\n",
    "u.insert(0,r)\n",
    "print(u)"
   ]
  },
  {
   "cell_type": "code",
   "execution_count": null,
   "id": "9a3a97ef-6f30-4fc6-ba3a-f978190ff976",
   "metadata": {},
   "outputs": [],
   "source": []
  }
 ],
 "metadata": {
  "kernelspec": {
   "display_name": "Python 3 (ipykernel)",
   "language": "python",
   "name": "python3"
  },
  "language_info": {
   "codemirror_mode": {
    "name": "ipython",
    "version": 3
   },
   "file_extension": ".py",
   "mimetype": "text/x-python",
   "name": "python",
   "nbconvert_exporter": "python",
   "pygments_lexer": "ipython3",
   "version": "3.10.6"
  }
 },
 "nbformat": 4,
 "nbformat_minor": 5
}
